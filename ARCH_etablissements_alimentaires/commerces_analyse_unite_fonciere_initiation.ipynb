{
 "cells": [
  {
   "cell_type": "markdown",
   "id": "eb5569c2",
   "metadata": {},
   "source": [
    "# loading municipal data and libraries"
   ]
  },
  {
   "cell_type": "code",
   "execution_count": 1,
   "id": "e7c776e8",
   "metadata": {},
   "outputs": [
    {
     "name": "stderr",
     "output_type": "stream",
     "text": [
      "C:\\Users\\xuebi\\anaconda3\\Lib\\site-packages\\pandas\\core\\arrays\\masked.py:60: UserWarning: Pandas requires version '1.3.6' or newer of 'bottleneck' (version '1.3.5' currently installed).\n",
      "  from pandas.core import (\n"
     ]
    }
   ],
   "source": [
    "import pandas as pd\n",
    "import matplotlib.pyplot as plt\n",
    "\n",
    "\n",
    "# Load XML file into a pandas DataFrame\n",
    "df = pd.read_xml('D:\\Roles_Donnees_Ouvertes_2024\\RL66023_2024.xml')  # Replace 'your_file.xml' with the path to your XML file\n",
    "\n",
    "# Display the DataFrame"
   ]
  },
  {
   "cell_type": "code",
   "execution_count": 2,
   "id": "8927d87a",
   "metadata": {},
   "outputs": [],
   "source": [
    "import geopandas as gpd\n",
    "import matplotlib.pyplot as plt\n",
    "from shapely.geometry import MultiPolygon\n",
    "import folium\n",
    "from folium.plugins import HeatMap\n",
    "import pandas as pd\n",
    "import numpy as np \n",
    "import seaborn as sns\n",
    "from shapely.geometry import Point\n"
   ]
  },
  {
   "cell_type": "code",
   "execution_count": 3,
   "id": "e1ca2829",
   "metadata": {},
   "outputs": [],
   "source": [
    "municiaplity_data = pd.read_csv(\"MUN.csv\")\n",
    "municiaplity_data[\"mcode\"] = municiaplity_data[\"mcode\"].astype(str)\n",
    "top_quebec = municiaplity_data.sort_values(by='mpopul', ascending=False)[:100]"
   ]
  },
  {
   "cell_type": "code",
   "execution_count": 4,
   "id": "c1a4f354",
   "metadata": {
    "scrolled": true
   },
   "outputs": [
    {
     "name": "stdout",
     "output_type": "stream",
     "text": [
      "23027\n",
      "65005\n",
      "81017\n",
      "58227\n",
      "43027\n",
      "25213\n",
      "94068\n",
      "37067\n",
      "64008\n",
      "56083\n",
      "58007\n",
      "60013\n",
      "49058\n",
      "75017\n",
      "47017\n",
      "74005\n",
      "73015\n",
      "54048\n",
      "64015\n",
      "67050\n",
      "36033\n",
      "66142\n",
      "10043\n",
      "39062\n",
      "72005\n",
      "71083\n",
      "70052\n",
      "86042\n",
      "58033\n",
      "66058\n",
      "53052\n",
      "66097\n",
      "29073\n",
      "89008\n",
      "57005\n",
      "67035\n",
      "93042\n",
      "59010\n",
      "73005\n",
      "45072\n",
      "67015\n",
      "73010\n",
      "31084\n",
      "58037\n",
      "63048\n",
      "57040\n",
      "97007\n",
      "60028\n",
      "67020\n",
      "58012\n",
      "71105\n",
      "61025\n",
      "66072\n",
      "59020\n",
      "72015\n",
      "96020\n",
      "23072\n",
      "12072\n",
      "66087\n",
      "66032\n",
      "66102\n",
      "57035\n",
      "66107\n",
      "75028\n",
      "75005\n",
      "72010\n",
      "67030\n",
      "23057\n",
      "57020\n",
      "46080\n",
      "61035\n",
      "73035\n",
      "52007\n",
      "67045\n",
      "3005\n",
      "71070\n",
      "76020\n",
      "77022\n",
      "70022\n",
      "79088\n",
      "38010\n",
      "8053\n",
      "73020\n",
      "82015\n",
      "75040\n",
      "59015\n",
      "92022\n",
      "26030\n",
      "88055\n",
      "1023\n",
      "57010\n",
      "62037\n",
      "82020\n",
      "63060\n",
      "77043\n",
      "46078\n",
      "55048\n",
      "78032\n",
      "71065\n"
     ]
    }
   ],
   "source": [
    "for index, row in top_quebec.iterrows():\n",
    "    munid = row[\"mcode\"]\n",
    "    if munid == \"66023\":\n",
    "        pass\n",
    "    else:\n",
    "        print(munid)\n",
    "        new_df = pd.read_xml(f'D:\\Roles_Donnees_Ouvertes_2024\\RL{\"0\" * (5-len(munid))}{munid}_2024.xml')  # Replace 'your_file.xml' with the path to your XML file\n",
    "        df = pd.concat([df,new_df])\n"
   ]
  },
  {
   "cell_type": "code",
   "execution_count": 5,
   "id": "c0b4c556",
   "metadata": {},
   "outputs": [
    {
     "data": {
      "text/html": [
       "<div>\n",
       "<style scoped>\n",
       "    .dataframe tbody tr th:only-of-type {\n",
       "        vertical-align: middle;\n",
       "    }\n",
       "\n",
       "    .dataframe tbody tr th {\n",
       "        vertical-align: top;\n",
       "    }\n",
       "\n",
       "    .dataframe thead th {\n",
       "        text-align: right;\n",
       "    }\n",
       "</style>\n",
       "<table border=\"1\" class=\"dataframe\">\n",
       "  <thead>\n",
       "    <tr style=\"text-align: right;\">\n",
       "      <th></th>\n",
       "      <th>VERSION</th>\n",
       "      <th>RLM01A</th>\n",
       "      <th>RLM02A</th>\n",
       "      <th>RL0101</th>\n",
       "      <th>RL0102A</th>\n",
       "      <th>RL0104</th>\n",
       "      <th>RL0105A</th>\n",
       "      <th>RL0106A</th>\n",
       "      <th>RL0107A</th>\n",
       "      <th>RL0201</th>\n",
       "      <th>...</th>\n",
       "      <th>RL0312A</th>\n",
       "      <th>RL0304A</th>\n",
       "      <th>RL0507</th>\n",
       "      <th>RL0305A</th>\n",
       "      <th>RL0314A</th>\n",
       "      <th>RL0503A</th>\n",
       "      <th>RL0315A</th>\n",
       "      <th>RL0316A</th>\n",
       "      <th>RL0506Ax</th>\n",
       "      <th>RL0506Bx</th>\n",
       "    </tr>\n",
       "  </thead>\n",
       "  <tbody>\n",
       "    <tr>\n",
       "      <th>0</th>\n",
       "      <td>2.7</td>\n",
       "      <td>NaN</td>\n",
       "      <td>NaN</td>\n",
       "      <td>None</td>\n",
       "      <td>None</td>\n",
       "      <td>None</td>\n",
       "      <td>NaN</td>\n",
       "      <td>None</td>\n",
       "      <td>NaN</td>\n",
       "      <td>None</td>\n",
       "      <td>...</td>\n",
       "      <td>NaN</td>\n",
       "      <td>NaN</td>\n",
       "      <td>None</td>\n",
       "      <td>NaN</td>\n",
       "      <td>NaN</td>\n",
       "      <td>NaN</td>\n",
       "      <td>NaN</td>\n",
       "      <td>NaN</td>\n",
       "      <td>NaN</td>\n",
       "      <td>NaN</td>\n",
       "    </tr>\n",
       "    <tr>\n",
       "      <th>1</th>\n",
       "      <td>NaN</td>\n",
       "      <td>66023.0</td>\n",
       "      <td>NaN</td>\n",
       "      <td>None</td>\n",
       "      <td>None</td>\n",
       "      <td>None</td>\n",
       "      <td>NaN</td>\n",
       "      <td>None</td>\n",
       "      <td>NaN</td>\n",
       "      <td>None</td>\n",
       "      <td>...</td>\n",
       "      <td>NaN</td>\n",
       "      <td>NaN</td>\n",
       "      <td>None</td>\n",
       "      <td>NaN</td>\n",
       "      <td>NaN</td>\n",
       "      <td>NaN</td>\n",
       "      <td>NaN</td>\n",
       "      <td>NaN</td>\n",
       "      <td>NaN</td>\n",
       "      <td>NaN</td>\n",
       "    </tr>\n",
       "    <tr>\n",
       "      <th>2</th>\n",
       "      <td>NaN</td>\n",
       "      <td>NaN</td>\n",
       "      <td>2023.0</td>\n",
       "      <td>None</td>\n",
       "      <td>None</td>\n",
       "      <td>None</td>\n",
       "      <td>NaN</td>\n",
       "      <td>None</td>\n",
       "      <td>NaN</td>\n",
       "      <td>None</td>\n",
       "      <td>...</td>\n",
       "      <td>NaN</td>\n",
       "      <td>NaN</td>\n",
       "      <td>None</td>\n",
       "      <td>NaN</td>\n",
       "      <td>NaN</td>\n",
       "      <td>NaN</td>\n",
       "      <td>NaN</td>\n",
       "      <td>NaN</td>\n",
       "      <td>NaN</td>\n",
       "      <td>NaN</td>\n",
       "    </tr>\n",
       "    <tr>\n",
       "      <th>3</th>\n",
       "      <td>NaN</td>\n",
       "      <td>NaN</td>\n",
       "      <td>NaN</td>\n",
       "      <td>\\n</td>\n",
       "      <td>REM19</td>\n",
       "      <td>\\n</td>\n",
       "      <td>1000.0</td>\n",
       "      <td>30-F14000200</td>\n",
       "      <td>2038.0</td>\n",
       "      <td>\\n</td>\n",
       "      <td>...</td>\n",
       "      <td>NaN</td>\n",
       "      <td>NaN</td>\n",
       "      <td>None</td>\n",
       "      <td>NaN</td>\n",
       "      <td>NaN</td>\n",
       "      <td>NaN</td>\n",
       "      <td>NaN</td>\n",
       "      <td>NaN</td>\n",
       "      <td>NaN</td>\n",
       "      <td>NaN</td>\n",
       "    </tr>\n",
       "    <tr>\n",
       "      <th>4</th>\n",
       "      <td>NaN</td>\n",
       "      <td>NaN</td>\n",
       "      <td>NaN</td>\n",
       "      <td>\\n</td>\n",
       "      <td>REM19</td>\n",
       "      <td>\\n</td>\n",
       "      <td>6000.0</td>\n",
       "      <td>30-F17000600</td>\n",
       "      <td>2078.0</td>\n",
       "      <td>\\n</td>\n",
       "      <td>...</td>\n",
       "      <td>NaN</td>\n",
       "      <td>NaN</td>\n",
       "      <td>None</td>\n",
       "      <td>NaN</td>\n",
       "      <td>NaN</td>\n",
       "      <td>NaN</td>\n",
       "      <td>NaN</td>\n",
       "      <td>NaN</td>\n",
       "      <td>NaN</td>\n",
       "      <td>NaN</td>\n",
       "    </tr>\n",
       "    <tr>\n",
       "      <th>...</th>\n",
       "      <td>...</td>\n",
       "      <td>...</td>\n",
       "      <td>...</td>\n",
       "      <td>...</td>\n",
       "      <td>...</td>\n",
       "      <td>...</td>\n",
       "      <td>...</td>\n",
       "      <td>...</td>\n",
       "      <td>...</td>\n",
       "      <td>...</td>\n",
       "      <td>...</td>\n",
       "      <td>...</td>\n",
       "      <td>...</td>\n",
       "      <td>...</td>\n",
       "      <td>...</td>\n",
       "      <td>...</td>\n",
       "      <td>...</td>\n",
       "      <td>...</td>\n",
       "      <td>...</td>\n",
       "      <td>...</td>\n",
       "      <td>...</td>\n",
       "    </tr>\n",
       "    <tr>\n",
       "      <th>5053</th>\n",
       "      <td>NaN</td>\n",
       "      <td>NaN</td>\n",
       "      <td>NaN</td>\n",
       "      <td>\\n</td>\n",
       "      <td>NaN</td>\n",
       "      <td>\\n</td>\n",
       "      <td>1000.0</td>\n",
       "      <td>NaN</td>\n",
       "      <td>1462.0</td>\n",
       "      <td>\\n</td>\n",
       "      <td>...</td>\n",
       "      <td>NaN</td>\n",
       "      <td>NaN</td>\n",
       "      <td>None</td>\n",
       "      <td>NaN</td>\n",
       "      <td>NaN</td>\n",
       "      <td>NaN</td>\n",
       "      <td>NaN</td>\n",
       "      <td>NaN</td>\n",
       "      <td>NaN</td>\n",
       "      <td>NaN</td>\n",
       "    </tr>\n",
       "    <tr>\n",
       "      <th>5054</th>\n",
       "      <td>NaN</td>\n",
       "      <td>NaN</td>\n",
       "      <td>NaN</td>\n",
       "      <td>\\n</td>\n",
       "      <td>NaN</td>\n",
       "      <td>\\n</td>\n",
       "      <td>1100.0</td>\n",
       "      <td>NaN</td>\n",
       "      <td>1462.0</td>\n",
       "      <td>\\n</td>\n",
       "      <td>...</td>\n",
       "      <td>NaN</td>\n",
       "      <td>NaN</td>\n",
       "      <td>None</td>\n",
       "      <td>NaN</td>\n",
       "      <td>NaN</td>\n",
       "      <td>NaN</td>\n",
       "      <td>NaN</td>\n",
       "      <td>NaN</td>\n",
       "      <td>NaN</td>\n",
       "      <td>NaN</td>\n",
       "    </tr>\n",
       "    <tr>\n",
       "      <th>5055</th>\n",
       "      <td>NaN</td>\n",
       "      <td>NaN</td>\n",
       "      <td>NaN</td>\n",
       "      <td>\\n</td>\n",
       "      <td>NaN</td>\n",
       "      <td>\\n</td>\n",
       "      <td>9100.0</td>\n",
       "      <td>NaN</td>\n",
       "      <td>1462.0</td>\n",
       "      <td>\\n</td>\n",
       "      <td>...</td>\n",
       "      <td>NaN</td>\n",
       "      <td>NaN</td>\n",
       "      <td>None</td>\n",
       "      <td>NaN</td>\n",
       "      <td>NaN</td>\n",
       "      <td>NaN</td>\n",
       "      <td>NaN</td>\n",
       "      <td>NaN</td>\n",
       "      <td>NaN</td>\n",
       "      <td>NaN</td>\n",
       "    </tr>\n",
       "    <tr>\n",
       "      <th>5056</th>\n",
       "      <td>NaN</td>\n",
       "      <td>NaN</td>\n",
       "      <td>NaN</td>\n",
       "      <td>\\n</td>\n",
       "      <td>NaN</td>\n",
       "      <td>\\n</td>\n",
       "      <td>1000.0</td>\n",
       "      <td>NaN</td>\n",
       "      <td>1462.0</td>\n",
       "      <td>\\n</td>\n",
       "      <td>...</td>\n",
       "      <td>NaN</td>\n",
       "      <td>NaN</td>\n",
       "      <td>None</td>\n",
       "      <td>NaN</td>\n",
       "      <td>NaN</td>\n",
       "      <td>NaN</td>\n",
       "      <td>NaN</td>\n",
       "      <td>NaN</td>\n",
       "      <td>NaN</td>\n",
       "      <td>NaN</td>\n",
       "    </tr>\n",
       "    <tr>\n",
       "      <th>5057</th>\n",
       "      <td>NaN</td>\n",
       "      <td>NaN</td>\n",
       "      <td>NaN</td>\n",
       "      <td>\\n</td>\n",
       "      <td>NaN</td>\n",
       "      <td>\\n</td>\n",
       "      <td>1000.0</td>\n",
       "      <td>NaN</td>\n",
       "      <td>1462.0</td>\n",
       "      <td>\\n</td>\n",
       "      <td>...</td>\n",
       "      <td>NaN</td>\n",
       "      <td>NaN</td>\n",
       "      <td>None</td>\n",
       "      <td>NaN</td>\n",
       "      <td>NaN</td>\n",
       "      <td>NaN</td>\n",
       "      <td>NaN</td>\n",
       "      <td>NaN</td>\n",
       "      <td>NaN</td>\n",
       "      <td>NaN</td>\n",
       "    </tr>\n",
       "  </tbody>\n",
       "</table>\n",
       "<p>2271018 rows × 39 columns</p>\n",
       "</div>"
      ],
      "text/plain": [
       "      VERSION   RLM01A  RLM02A    RL0101 RL0102A    RL0104  RL0105A  \\\n",
       "0         2.7      NaN     NaN      None    None      None      NaN   \n",
       "1         NaN  66023.0     NaN      None    None      None      NaN   \n",
       "2         NaN      NaN  2023.0      None    None      None      NaN   \n",
       "3         NaN      NaN     NaN  \\n         REM19  \\n         1000.0   \n",
       "4         NaN      NaN     NaN  \\n         REM19  \\n         6000.0   \n",
       "...       ...      ...     ...       ...     ...       ...      ...   \n",
       "5053      NaN      NaN     NaN  \\n           NaN  \\n         1000.0   \n",
       "5054      NaN      NaN     NaN  \\n           NaN  \\n         1100.0   \n",
       "5055      NaN      NaN     NaN  \\n           NaN  \\n         9100.0   \n",
       "5056      NaN      NaN     NaN  \\n           NaN  \\n         1000.0   \n",
       "5057      NaN      NaN     NaN  \\n           NaN  \\n         1000.0   \n",
       "\n",
       "           RL0106A RL0107A    RL0201  ...  RL0312A  RL0304A  RL0507  RL0305A  \\\n",
       "0             None     NaN      None  ...      NaN      NaN    None      NaN   \n",
       "1             None     NaN      None  ...      NaN      NaN    None      NaN   \n",
       "2             None     NaN      None  ...      NaN      NaN    None      NaN   \n",
       "3     30-F14000200  2038.0  \\n        ...      NaN      NaN    None      NaN   \n",
       "4     30-F17000600  2078.0  \\n        ...      NaN      NaN    None      NaN   \n",
       "...            ...     ...       ...  ...      ...      ...     ...      ...   \n",
       "5053           NaN  1462.0  \\n        ...      NaN      NaN    None      NaN   \n",
       "5054           NaN  1462.0  \\n        ...      NaN      NaN    None      NaN   \n",
       "5055           NaN  1462.0  \\n        ...      NaN      NaN    None      NaN   \n",
       "5056           NaN  1462.0  \\n        ...      NaN      NaN    None      NaN   \n",
       "5057           NaN  1462.0  \\n        ...      NaN      NaN    None      NaN   \n",
       "\n",
       "      RL0314A RL0503A  RL0315A  RL0316A  RL0506Ax RL0506Bx  \n",
       "0         NaN     NaN      NaN      NaN       NaN      NaN  \n",
       "1         NaN     NaN      NaN      NaN       NaN      NaN  \n",
       "2         NaN     NaN      NaN      NaN       NaN      NaN  \n",
       "3         NaN     NaN      NaN      NaN       NaN      NaN  \n",
       "4         NaN     NaN      NaN      NaN       NaN      NaN  \n",
       "...       ...     ...      ...      ...       ...      ...  \n",
       "5053      NaN     NaN      NaN      NaN       NaN      NaN  \n",
       "5054      NaN     NaN      NaN      NaN       NaN      NaN  \n",
       "5055      NaN     NaN      NaN      NaN       NaN      NaN  \n",
       "5056      NaN     NaN      NaN      NaN       NaN      NaN  \n",
       "5057      NaN     NaN      NaN      NaN       NaN      NaN  \n",
       "\n",
       "[2271018 rows x 39 columns]"
      ]
     },
     "execution_count": 5,
     "metadata": {},
     "output_type": "execute_result"
    }
   ],
   "source": [
    "df"
   ]
  },
  {
   "cell_type": "markdown",
   "id": "c291fa8c",
   "metadata": {},
   "source": [
    "# analyse de surface totale, building commerciaux"
   ]
  },
  {
   "cell_type": "code",
   "execution_count": 20,
   "id": "6ecf6776",
   "metadata": {},
   "outputs": [],
   "source": [
    "df['RL0105A'] = df['RL0105A'].astype(str)"
   ]
  },
  {
   "cell_type": "code",
   "execution_count": 40,
   "id": "6b9d9053",
   "metadata": {},
   "outputs": [],
   "source": [
    "superficie_BC = df[(df['RL0105A'].str.startswith('5001')) & (df['RL0308A'] != \"NaN\")]"
   ]
  },
  {
   "cell_type": "code",
   "execution_count": 41,
   "id": "02547067",
   "metadata": {},
   "outputs": [
    {
     "data": {
      "text/plain": [
       "139764.1"
      ]
     },
     "execution_count": 41,
     "metadata": {},
     "output_type": "execute_result"
    }
   ],
   "source": [
    "superficie_BC['RL0308A'].max()"
   ]
  },
  {
   "cell_type": "code",
   "execution_count": 42,
   "id": "10615e30",
   "metadata": {},
   "outputs": [
    {
     "data": {
      "image/png": "[encoded data removed]",
      "text/plain": [
       "<Figure size 640x480 with 1 Axes>"
      ]
     },
     "metadata": {},
     "output_type": "display_data"
    }
   ],
   "source": [
    "superficie_BC['RL0308A'].hist(bins=10, range = (0,140000), edgecolor='black')\n",
    "plt.title('Bureaux : 3 categories non gratte ciel')  # Set the title of the histogram\n",
    "plt.xlabel('Superficie totale')  # Optionally, add x-axis label\n",
    "plt.ylabel('Frequence')  # Optionally, add y-axis label\n",
    "plt.show()"
   ]
  },
  {
   "cell_type": "markdown",
   "id": "a0cbe948",
   "metadata": {},
   "source": [
    "### Categorie non-gratte_ciel"
   ]
  },
  {
   "cell_type": "code",
   "execution_count": 43,
   "id": "1d0425d8",
   "metadata": {},
   "outputs": [
    {
     "name": "stdout",
     "output_type": "stream",
     "text": [
      "Q1 (25th percentile): 2337.6499999999996\n",
      "Q2 (50th percentile / Median): 7904.7\n",
      "Q2 (75th percentile): 49153.6\n",
      "Mean: 33563.98947368421\n"
     ]
    }
   ],
   "source": [
    "q1 = superficie_BC['RL0308A'].quantile(0.25)  # 25th percentile\n",
    "q2 = superficie_BC['RL0308A'].quantile(0.50)  # 25th percentile\n",
    "q3 = superficie_BC['RL0308A'].quantile(0.75)  # 25th percentile\n",
    "\n",
    "print(\"Q1 (25th percentile):\", q1)\n",
    "print(\"Q2 (50th percentile / Median):\", q2)\n",
    "print(\"Q2 (75th percentile):\", q3)\n",
    "print(\"Mean:\", superficie['RL0308A'].mean())\n"
   ]
  },
  {
   "cell_type": "code",
   "execution_count": 17,
   "id": "94050b56",
   "metadata": {},
   "outputs": [],
   "source": [
    "\"\"\"\n",
    "data = [\n",
    "superficie[superficie['RL0308A'] < q1]['RL0308A'].values,\n",
    "superficie[(superficie['RL0308A'] < q2) & (superficie['RL0308A'] > q1)]['RL0308A'].values,\n",
    "superficie[(superficie['RL0308A'] < 60000) & (superficie['RL0308A'] > 3038.6)]['RL0308A'].values,\n",
    "]\n",
    "\n",
    "plt.boxplot(data)\n",
    "plt.yscale('log')\n",
    "plt.xticks([1, 2, 3], [\"Petit\", \"Moyen\", \"Grand\"])\n",
    "# Display the plot\n",
    "plt.title(\"Aire totale pour les categories non gratte-ciel\")\n",
    "plt.ylabel(\"Values\")\n",
    "plt.show()\n",
    "\"\"\""
   ]
  },
  {
   "cell_type": "markdown",
   "id": "66485277",
   "metadata": {},
   "source": [
    "## Analyse annee de construction "
   ]
  },
  {
   "cell_type": "code",
   "execution_count": 46,
   "id": "adfa77e7",
   "metadata": {},
   "outputs": [],
   "source": [
    "anne_construction_BC = df[(df['RL0105A'].str.startswith('5001')) & (df['RL0307A'] != \"NaN\")]"
   ]
  },
  {
   "cell_type": "code",
   "execution_count": 47,
   "id": "469c17cf",
   "metadata": {},
   "outputs": [
    {
     "data": {
      "text/plain": [
       "<Axes: >"
      ]
     },
     "execution_count": 47,
     "metadata": {},
     "output_type": "execute_result"
    },
    {
     "data": {
      "image/png": "[encoded data removed]",
      "text/plain": [
       "<Figure size 640x480 with 1 Axes>"
      ]
     },
     "metadata": {},
     "output_type": "display_data"
    }
   ],
   "source": [
    "anne_construction_BC['RL0307A'].hist(bins=10,range = (1900,2025), edgecolor='black')"
   ]
  },
  {
   "cell_type": "code",
   "execution_count": 48,
   "id": "8ed94f36",
   "metadata": {},
   "outputs": [
    {
     "name": "stdout",
     "output_type": "stream",
     "text": [
      "Q1 (25th percentile): 1975.25\n",
      "Q2 (50th percentile / Median): 1984.5\n"
     ]
    },
    {
     "data": {
      "text/plain": [
       "'\\ndata = [\\nanne_construction[(anne_construction[\\'RL0307A\\'] > 1900.0) & (anne_construction[\\'RL0307A\\'] < 1963)][\\'RL0307A\\'].values,\\nanne_construction[(anne_construction[\\'RL0307A\\'] < 1989.0) & (anne_construction[\\'RL0307A\\'] > 1963)][\\'RL0307A\\'].values,\\nanne_construction[anne_construction[\\'RL0307A\\'] > 1989.0][\\'RL0307A\\'].values,\\n]\\n\\nplt.boxplot(data)\\nplt.xticks([1, 2, 3], [\"<1963\", \"1963 - 1989\", \">1989\"])\\n# Display the plot\\nplt.title(\"Periode de construction pour les categories non gratte-ciel\")\\nplt.ylabel(\"Values\")\\nplt.show()\\n'"
      ]
     },
     "execution_count": 48,
     "metadata": {},
     "output_type": "execute_result"
    }
   ],
   "source": [
    "q1 = anne_construction_BC['RL0307A'].quantile(0.25)  # 25th percentile\n",
    "q2 = anne_construction_BC['RL0307A'].quantile(0.50)  # 25th percentile\n",
    "print(\"Q1 (25th percentile):\", q1)\n",
    "print(\"Q2 (50th percentile / Median):\", q2)\n",
    "\n",
    "\"\"\"\n",
    "data = [\n",
    "anne_construction[(anne_construction['RL0307A'] > 1900.0) & (anne_construction['RL0307A'] < 1963)]['RL0307A'].values,\n",
    "anne_construction[(anne_construction['RL0307A'] < 1989.0) & (anne_construction['RL0307A'] > 1963)]['RL0307A'].values,\n",
    "anne_construction[anne_construction['RL0307A'] > 1989.0]['RL0307A'].values,\n",
    "]\n",
    "\n",
    "plt.boxplot(data)\n",
    "plt.xticks([1, 2, 3], [\"<1963\", \"1963 - 1989\", \">1989\"])\n",
    "# Display the plot\n",
    "plt.title(\"Periode de construction pour les categories non gratte-ciel\")\n",
    "plt.ylabel(\"Values\")\n",
    "plt.show()\n",
    "\"\"\""
   ]
  },
  {
   "cell_type": "markdown",
   "id": "520b3132",
   "metadata": {},
   "source": [
    "## Analyse floors "
   ]
  },
  {
   "cell_type": "code",
   "execution_count": 49,
   "id": "b67c50e8",
   "metadata": {},
   "outputs": [],
   "source": [
    "floors_BC = df[(df['RL0105A'].str.startswith('5001')) & (df['RL0306A'] != \"NaN\")]"
   ]
  },
  {
   "cell_type": "code",
   "execution_count": 50,
   "id": "49a9e2bd",
   "metadata": {},
   "outputs": [
    {
     "data": {
      "text/plain": [
       "<Axes: >"
      ]
     },
     "execution_count": 50,
     "metadata": {},
     "output_type": "execute_result"
    },
    {
     "data": {
      "image/png": "[encoded data removed]",
      "text/plain": [
       "<Figure size 640x480 with 1 Axes>"
      ]
     },
     "metadata": {},
     "output_type": "display_data"
    }
   ],
   "source": [
    "floors_BC['RL0306A'].hist(bins=15, edgecolor='black')"
   ]
  },
  {
   "cell_type": "code",
   "execution_count": 26,
   "id": "3cc629e9",
   "metadata": {},
   "outputs": [],
   "source": [
    "\"\"\"\n",
    "data = [\n",
    "superficie[superficie['RL0308A'] < q1]['RL0306A'].dropna().values,\n",
    "superficie[(superficie['RL0308A'] < q2) & (superficie['RL0308A'] > q1)]['RL0306A'].dropna().values,\n",
    "superficie[(superficie['RL0308A'] < 40000) & (superficie['RL0308A'] > q2)]['RL0306A'].dropna().values,\n",
    "]\n",
    "plt.boxplot(data,showfliers=False)\n",
    "plt.xticks([1, 2, 3], [\"Petit\", \"Moyen\", \"Grand\"])\n",
    "# Display the plot\n",
    "plt.title(\"Nombre d'etages totale pour les categories non gratte-ciel\")\n",
    "plt.ylabel(\"Nombre d'etages totale\")\n",
    "plt.show()\n",
    "\"\"\""
   ]
  },
  {
   "cell_type": "markdown",
   "id": "3615faea",
   "metadata": {},
   "source": [
    "# analyse de surface totale, cg"
   ]
  },
  {
   "cell_type": "code",
   "execution_count": 97,
   "id": "a56994ad",
   "metadata": {},
   "outputs": [],
   "source": [
    "superficie_cg = df[(df['RL0105A'].str.startswith('51')) & (df['RL0308A'] != \"NaN\") & ~(df['RL0105A'].str.startswith('50'))]"
   ]
  },
  {
   "cell_type": "code",
   "execution_count": 98,
   "id": "19f81346",
   "metadata": {},
   "outputs": [
    {
     "data": {
      "text/plain": [
       "57719.0"
      ]
     },
     "execution_count": 98,
     "metadata": {},
     "output_type": "execute_result"
    }
   ],
   "source": [
    "superficie_cg.shape\n",
    "superficie_BC['RL0308A'].max()"
   ]
  },
  {
   "cell_type": "code",
   "execution_count": 106,
   "id": "18c79fa1",
   "metadata": {},
   "outputs": [
    {
     "data": {
      "image/png": "[encoded data removed]",
      "text/plain": [
       "<Figure size 640x480 with 1 Axes>"
      ]
     },
     "metadata": {},
     "output_type": "display_data"
    }
   ],
   "source": [
    "superficie_cg['RL0308A'].hist(bins=10, range = (0,60000), edgecolor='black')\n",
    "plt.title('Bureaux : 3 categories non gratte ciel')  # Set the title of the histogram\n",
    "plt.xlabel('Superficie totale')  # Optionally, add x-axis label\n",
    "plt.ylabel('Frequence')  # Optionally, add y-axis label\n",
    "plt.show()"
   ]
  },
  {
   "cell_type": "code",
   "execution_count": 102,
   "id": "3d8f9398",
   "metadata": {},
   "outputs": [
    {
     "name": "stdout",
     "output_type": "stream",
     "text": [
      "Q1 (25th percentile): 367.375\n",
      "Q2 (50th percentile / Median): 851.75\n",
      "Q2 (75th percentile): 1989.425\n",
      "Mean: 1769.6775803722508\n"
     ]
    }
   ],
   "source": [
    "q1 = superficie_cg['RL0308A'].quantile(0.25)  # 25th percentile\n",
    "q2 = superficie_cg['RL0308A'].quantile(0.50)  # 25th percentile\n",
    "q3 = superficie_cg['RL0308A'].quantile(0.75)  # 25th percentile\n",
    "\n",
    "print(\"Q1 (25th percentile):\", q1)\n",
    "print(\"Q2 (50th percentile / Median):\", q2)\n",
    "print(\"Q2 (75th percentile):\", q3)\n",
    "print(\"Mean:\", superficie_cg['RL0308A'].mean())\n"
   ]
  },
  {
   "cell_type": "code",
   "execution_count": 103,
   "id": "ca7e91b5",
   "metadata": {
    "scrolled": false
   },
   "outputs": [
    {
     "data": {
      "text/plain": [
       "<Axes: >"
      ]
     },
     "execution_count": 103,
     "metadata": {},
     "output_type": "execute_result"
    },
    {
     "data": {
      "image/png": "[encoded data removed]",
      "text/plain": [
       "<Figure size 640x480 with 1 Axes>"
      ]
     },
     "metadata": {},
     "output_type": "display_data"
    }
   ],
   "source": [
    "superficie_cg['RL0307A'].hist(bins=10,range = (1850,2025), edgecolor='black')"
   ]
  },
  {
   "cell_type": "code",
   "execution_count": 104,
   "id": "7926c820",
   "metadata": {
    "scrolled": false
   },
   "outputs": [
    {
     "data": {
      "text/plain": [
       "<Axes: >"
      ]
     },
     "execution_count": 104,
     "metadata": {},
     "output_type": "execute_result"
    },
    {
     "data": {
      "image/png": "[encoded data removed]",
      "text/plain": [
       "<Figure size 640x480 with 1 Axes>"
      ]
     },
     "metadata": {},
     "output_type": "display_data"
    }
   ],
   "source": [
    "superficie_cg['RL0306A'].hist(bins=15,range = (0,5), edgecolor='black')"
   ]
  },
  {
   "cell_type": "markdown",
   "id": "45192db2",
   "metadata": {},
   "source": [
    "## BI-ANALYSE Analyse floors - SUPERFICIE"
   ]
  },
  {
   "cell_type": "code",
   "execution_count": 28,
   "id": "b04e753a",
   "metadata": {},
   "outputs": [],
   "source": [
    "superficie = df[(df['RL0105A'].str.startswith('5')) & (df['RL0302A'] != \"NaN\") & (df['RL0307A'] != \"NaN\")]\n"
   ]
  },
  {
   "cell_type": "code",
   "execution_count": 29,
   "id": "147340ed",
   "metadata": {},
   "outputs": [
    {
     "data": {
      "image/png": "[encoded data removed]",
      "text/plain": [
       "<Figure size 640x480 with 1 Axes>"
      ]
     },
     "metadata": {},
     "output_type": "display_data"
    }
   ],
   "source": [
    "ax = superficie.plot.scatter(x='RL0306A', y='RL0308A')\n",
    "\n",
    "# Set y-axis to logarithmic scale\n",
    "ax.set_yscale('log')\n",
    "# ax.set_xscale('log')\n",
    "\n",
    "\n",
    "# Add labels\n",
    "ax.set_xlabel(\"X Values\")\n",
    "ax.set_ylabel(\"Y Values (log scale)\")\n",
    "\n",
    "# Show plot\n",
    "plt.show()"
   ]
  },
  {
   "cell_type": "code",
   "execution_count": null,
   "id": "dc991425",
   "metadata": {},
   "outputs": [],
   "source": []
  }
 ],
 "metadata": {
  "kernelspec": {
   "display_name": "Python 3 (ipykernel)",
   "language": "python",
   "name": "python3"
  },
  "language_info": {
   "codemirror_mode": {
    "name": "ipython",
    "version": 3
   },
   "file_extension": ".py",
   "mimetype": "text/x-python",
   "name": "python",
   "nbconvert_exporter": "python",
   "pygments_lexer": "ipython3",
   "version": "3.11.5"
  }
 },
 "nbformat": 4,
 "nbformat_minor": 5
}
